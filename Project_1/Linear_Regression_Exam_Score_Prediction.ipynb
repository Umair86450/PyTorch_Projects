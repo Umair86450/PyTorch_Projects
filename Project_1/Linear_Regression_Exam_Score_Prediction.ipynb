{
  "nbformat": 4,
  "nbformat_minor": 0,
  "metadata": {
    "colab": {
      "provenance": []
    },
    "kernelspec": {
      "name": "python3",
      "display_name": "Python 3"
    },
    "language_info": {
      "name": "python"
    }
  },
  "cells": [
    {
      "cell_type": "markdown",
      "source": [
        "### **Workflow**"
      ],
      "metadata": {
        "id": "jiagMDXp_enl"
      }
    },
    {
      "cell_type": "markdown",
      "source": [
        "0. Import importandt libraries\n",
        "1. Get data ready (turn into tensors)\n",
        "2. Build A Linear Regression Model\n",
        "3. Pick A loss function and optimizer\n",
        "4. Build a training loop\n",
        "5. Evaulate your model\n",
        "6. Test Model with a new data point\n",
        "7. Save the model"
      ],
      "metadata": {
        "id": "XZKir8tM_lBq"
      }
    },
    {
      "cell_type": "markdown",
      "source": [
        "## **0. import Important libraries**"
      ],
      "metadata": {
        "id": "KLGkVUeFAgwZ"
      }
    },
    {
      "cell_type": "code",
      "source": [
        "import torch\n",
        "import torch.optim as optim\n",
        "import seaborn as sns\n",
        "import torch.nn as nn\n",
        "import numpy as np\n",
        "import matplotlib.pyplot as plt"
      ],
      "metadata": {
        "id": "5-xkBbFEUDPd"
      },
      "execution_count": 5,
      "outputs": []
    },
    {
      "cell_type": "markdown",
      "source": [
        "## **1. Get data ready (turn into tensors)**"
      ],
      "metadata": {
        "id": "e-zfzanYBF7p"
      }
    },
    {
      "cell_type": "code",
      "source": [
        "x_train = np.array([[3.3], [4.4], [5.5], [6.71], [6.93], [4.168],\n",
        "                    [9.779], [6.182], [7.59], [2.167], [7.042],\n",
        "                    [10.791], [5.313], [7.997], [3.1]], dtype=np.float32)\n",
        "\n",
        "y_train = np.array([[1.7], [2.76], [2.09], [3.19], [1.694], [1.573],\n",
        "                    [3.366], [2.596], [2.53], [1.221], [2.827],\n",
        "                    [3.465], [1.65], [2.904], [1.3]], dtype=np.float32)\n",
        "\n",
        "x_train, y_train"
      ],
      "metadata": {
        "colab": {
          "base_uri": "https://localhost:8080/"
        },
        "id": "OuoZihG9A_5x",
        "outputId": "4b83dcc1-3500-4ab3-9691-a1c7954fe1b7"
      },
      "execution_count": 6,
      "outputs": [
        {
          "output_type": "execute_result",
          "data": {
            "text/plain": [
              "(array([[ 3.3  ],\n",
              "        [ 4.4  ],\n",
              "        [ 5.5  ],\n",
              "        [ 6.71 ],\n",
              "        [ 6.93 ],\n",
              "        [ 4.168],\n",
              "        [ 9.779],\n",
              "        [ 6.182],\n",
              "        [ 7.59 ],\n",
              "        [ 2.167],\n",
              "        [ 7.042],\n",
              "        [10.791],\n",
              "        [ 5.313],\n",
              "        [ 7.997],\n",
              "        [ 3.1  ]], dtype=float32),\n",
              " array([[1.7  ],\n",
              "        [2.76 ],\n",
              "        [2.09 ],\n",
              "        [3.19 ],\n",
              "        [1.694],\n",
              "        [1.573],\n",
              "        [3.366],\n",
              "        [2.596],\n",
              "        [2.53 ],\n",
              "        [1.221],\n",
              "        [2.827],\n",
              "        [3.465],\n",
              "        [1.65 ],\n",
              "        [2.904],\n",
              "        [1.3  ]], dtype=float32))"
            ]
          },
          "metadata": {},
          "execution_count": 6
        }
      ]
    },
    {
      "cell_type": "code",
      "source": [
        "fig=plt.figure(figsize=(10,5))\n",
        "plt.plot(x_train,y_train,'ro',label='Original Data')\n",
        "plt.xlabel('hours Studied')\n",
        "plt.ylabel('Exam Score')\n",
        "plt.legend()\n",
        "plt.title('Exam Score Prediction')\n",
        "plt.show()"
      ],
      "metadata": {
        "colab": {
          "base_uri": "https://localhost:8080/",
          "height": 487
        },
        "id": "HnzIfXAeCz0P",
        "outputId": "a35d1895-7b3d-4f3d-d1bd-9dea0864f7ec"
      },
      "execution_count": 7,
      "outputs": [
        {
          "output_type": "display_data",
          "data": {
            "text/plain": [
              "<Figure size 1000x500 with 1 Axes>"
            ],
            "image/png": "[encoded data removed]"
          },
          "metadata": {}
        }
      ]
    },
    {
      "cell_type": "markdown",
      "source": [
        "X_train we will train our model,we will test our model with new data point 8 hours"
      ],
      "metadata": {
        "id": "NtMgmmo4FCQ9"
      }
    },
    {
      "cell_type": "code",
      "source": [
        "x_train=torch.from_numpy(x_train)\n",
        "y_train=torch.from_numpy(y_train)\n",
        "x_train,y_train"
      ],
      "metadata": {
        "colab": {
          "base_uri": "https://localhost:8080/"
        },
        "id": "mETyviTRDBgZ",
        "outputId": "21949c2e-df3c-4ce9-955e-b224c208cf4e"
      },
      "execution_count": 8,
      "outputs": [
        {
          "output_type": "execute_result",
          "data": {
            "text/plain": [
              "(tensor([[ 3.3000],\n",
              "         [ 4.4000],\n",
              "         [ 5.5000],\n",
              "         [ 6.7100],\n",
              "         [ 6.9300],\n",
              "         [ 4.1680],\n",
              "         [ 9.7790],\n",
              "         [ 6.1820],\n",
              "         [ 7.5900],\n",
              "         [ 2.1670],\n",
              "         [ 7.0420],\n",
              "         [10.7910],\n",
              "         [ 5.3130],\n",
              "         [ 7.9970],\n",
              "         [ 3.1000]]),\n",
              " tensor([[1.7000],\n",
              "         [2.7600],\n",
              "         [2.0900],\n",
              "         [3.1900],\n",
              "         [1.6940],\n",
              "         [1.5730],\n",
              "         [3.3660],\n",
              "         [2.5960],\n",
              "         [2.5300],\n",
              "         [1.2210],\n",
              "         [2.8270],\n",
              "         [3.4650],\n",
              "         [1.6500],\n",
              "         [2.9040],\n",
              "         [1.3000]]))"
            ]
          },
          "metadata": {},
          "execution_count": 8
        }
      ]
    },
    {
      "cell_type": "code",
      "source": [],
      "metadata": {
        "id": "MWAgQ2zJDI9w"
      },
      "execution_count": 8,
      "outputs": []
    },
    {
      "cell_type": "markdown",
      "source": [
        "## **2. Build a linear Regression Model**"
      ],
      "metadata": {
        "id": "RanludTMF7L8"
      }
    },
    {
      "cell_type": "code",
      "source": [
        "class LinearRegression(nn.Module):\n",
        "  def __init__(self):\n",
        "    super().__init__()\n",
        "    self.linear=nn.Linear(1,1)\n",
        "\n",
        "  def forward(self,x):\n",
        "    out=self.linear(x)\n",
        "    return out"
      ],
      "metadata": {
        "id": "CT9DrjYEFwrZ"
      },
      "execution_count": 9,
      "outputs": []
    },
    {
      "cell_type": "code",
      "source": [
        "model=LinearRegression() #creating object or (instance) for our class"
      ],
      "metadata": {
        "id": "DhOy2m6GcaTY"
      },
      "execution_count": 10,
      "outputs": []
    },
    {
      "cell_type": "code",
      "source": [
        "model"
      ],
      "metadata": {
        "colab": {
          "base_uri": "https://localhost:8080/"
        },
        "id": "SrdTMB0gcjdC",
        "outputId": "fe9624ac-696f-4664-f407-9e70a2effbad"
      },
      "execution_count": 11,
      "outputs": [
        {
          "output_type": "execute_result",
          "data": {
            "text/plain": [
              "LinearRegression(\n",
              "  (linear): Linear(in_features=1, out_features=1, bias=True)\n",
              ")"
            ]
          },
          "metadata": {},
          "execution_count": 11
        }
      ]
    },
    {
      "cell_type": "code",
      "source": [
        "model.state_dict()"
      ],
      "metadata": {
        "colab": {
          "base_uri": "https://localhost:8080/"
        },
        "id": "Tqjn9RrFctks",
        "outputId": "a132b0af-74bf-44fd-abe6-432621c4c64c"
      },
      "execution_count": 12,
      "outputs": [
        {
          "output_type": "execute_result",
          "data": {
            "text/plain": [
              "OrderedDict([('linear.weight', tensor([[-0.5043]])),\n",
              "             ('linear.bias', tensor([-0.1433]))])"
            ]
          },
          "metadata": {},
          "execution_count": 12
        }
      ]
    },
    {
      "cell_type": "code",
      "source": [
        "list(model.parameters())"
      ],
      "metadata": {
        "colab": {
          "base_uri": "https://localhost:8080/"
        },
        "id": "AbfauklVgTsn",
        "outputId": "8d83ba20-a093-4282-e23d-de0ac55db33a"
      },
      "execution_count": 13,
      "outputs": [
        {
          "output_type": "execute_result",
          "data": {
            "text/plain": [
              "[Parameter containing:\n",
              " tensor([[-0.5043]], requires_grad=True),\n",
              " Parameter containing:\n",
              " tensor([-0.1433], requires_grad=True)]"
            ]
          },
          "metadata": {},
          "execution_count": 13
        }
      ]
    },
    {
      "cell_type": "markdown",
      "source": [
        "## **3. Pick a Loss function and Optimizer**\n",
        "\n",
        "\n",
        "\n",
        "\n",
        "\n"
      ],
      "metadata": {
        "id": "2nZ2bOCykb1L"
      }
    },
    {
      "cell_type": "code",
      "source": [
        "criterion=nn.MSELoss()\n",
        "optimizer=torch.optim.SGD(model.parameters(),lr=1e-4) #0.0001\n"
      ],
      "metadata": {
        "id": "mT2lVjK0kSzL"
      },
      "execution_count": 14,
      "outputs": []
    },
    {
      "cell_type": "markdown",
      "source": [
        "## **4. Build a training loop**"
      ],
      "metadata": {
        "id": "qZ-EPmIawDVt"
      }
    },
    {
      "cell_type": "code",
      "source": [
        "num_epochs=1000\n"
      ],
      "metadata": {
        "id": "Aw-Y0Q3gwHl1"
      },
      "execution_count": 15,
      "outputs": []
    },
    {
      "cell_type": "code",
      "source": [
        "for epoch in range(num_epochs):\n",
        "  model.train()\n",
        "  out=model(x_train)\n",
        "  loss=criterion(out,y_train)\n",
        "  optimizer.zero_grad()\n",
        "  loss.backward()\n",
        "  optimizer.step()\n",
        "  if (epoch +1 ) % 20 == 0:\n",
        "    print(f'Epoch: [{epoch +1 } / {num_epochs}],Loss: { loss.item():.6f}')\n"
      ],
      "metadata": {
        "colab": {
          "base_uri": "https://localhost:8080/"
        },
        "id": "womr-HWq1Dhb",
        "outputId": "b8ea550e-6d21-40ba-8aa9-45aeaf5df07b"
      },
      "execution_count": 16,
      "outputs": [
        {
          "output_type": "stream",
          "name": "stdout",
          "text": [
            "Epoch: [20 / 1000],Loss: 24.478472\n",
            "Epoch: [40 / 1000],Loss: 17.371977\n",
            "Epoch: [60 / 1000],Loss: 12.349479\n",
            "Epoch: [80 / 1000],Loss: 8.799831\n",
            "Epoch: [100 / 1000],Loss: 6.291114\n",
            "Epoch: [120 / 1000],Loss: 4.518068\n",
            "Epoch: [140 / 1000],Loss: 3.264954\n",
            "Epoch: [160 / 1000],Loss: 2.379300\n",
            "Epoch: [180 / 1000],Loss: 1.753345\n",
            "Epoch: [200 / 1000],Loss: 1.310933\n",
            "Epoch: [220 / 1000],Loss: 0.998236\n",
            "Epoch: [240 / 1000],Loss: 0.777218\n",
            "Epoch: [260 / 1000],Loss: 0.620991\n",
            "Epoch: [280 / 1000],Loss: 0.510555\n",
            "Epoch: [300 / 1000],Loss: 0.432483\n",
            "Epoch: [320 / 1000],Loss: 0.377283\n",
            "Epoch: [340 / 1000],Loss: 0.338249\n",
            "Epoch: [360 / 1000],Loss: 0.310638\n",
            "Epoch: [380 / 1000],Loss: 0.291102\n",
            "Epoch: [400 / 1000],Loss: 0.277272\n",
            "Epoch: [420 / 1000],Loss: 0.267476\n",
            "Epoch: [440 / 1000],Loss: 0.260530\n",
            "Epoch: [460 / 1000],Loss: 0.255598\n",
            "Epoch: [480 / 1000],Loss: 0.252090\n",
            "Epoch: [500 / 1000],Loss: 0.249588\n",
            "Epoch: [520 / 1000],Loss: 0.247798\n",
            "Epoch: [540 / 1000],Loss: 0.246509\n",
            "Epoch: [560 / 1000],Loss: 0.245577\n",
            "Epoch: [580 / 1000],Loss: 0.244895\n",
            "Epoch: [600 / 1000],Loss: 0.244391\n",
            "Epoch: [620 / 1000],Loss: 0.244012\n",
            "Epoch: [640 / 1000],Loss: 0.243723\n",
            "Epoch: [660 / 1000],Loss: 0.243495\n",
            "Epoch: [680 / 1000],Loss: 0.243312\n",
            "Epoch: [700 / 1000],Loss: 0.243161\n",
            "Epoch: [720 / 1000],Loss: 0.243032\n",
            "Epoch: [740 / 1000],Loss: 0.242918\n",
            "Epoch: [760 / 1000],Loss: 0.242816\n",
            "Epoch: [780 / 1000],Loss: 0.242721\n",
            "Epoch: [800 / 1000],Loss: 0.242632\n",
            "Epoch: [820 / 1000],Loss: 0.242547\n",
            "Epoch: [840 / 1000],Loss: 0.242465\n",
            "Epoch: [860 / 1000],Loss: 0.242384\n",
            "Epoch: [880 / 1000],Loss: 0.242306\n",
            "Epoch: [900 / 1000],Loss: 0.242228\n",
            "Epoch: [920 / 1000],Loss: 0.242151\n",
            "Epoch: [940 / 1000],Loss: 0.242075\n",
            "Epoch: [960 / 1000],Loss: 0.241999\n",
            "Epoch: [980 / 1000],Loss: 0.241923\n",
            "Epoch: [1000 / 1000],Loss: 0.241848\n"
          ]
        }
      ]
    },
    {
      "cell_type": "markdown",
      "source": [
        "## **5. Evaluate the model**"
      ],
      "metadata": {
        "id": "1P-nlATKDrQO"
      }
    },
    {
      "cell_type": "code",
      "source": [
        "model.eval() # Set the model to evaluation mode\n",
        "with torch.no_grad():\n",
        "  predict=model(x_train)# Make predictions using the model on the training data\n",
        "predict.data.numpy()# Convert the predictions to a NumPy array for easier manipulation and evaluation outside PyTorch"
      ],
      "metadata": {
        "colab": {
          "base_uri": "https://localhost:8080/"
        },
        "id": "DYtmgeXcwT7P",
        "outputId": "374a2709-d4a6-4c83-fc2d-0d96b5b72102"
      },
      "execution_count": 17,
      "outputs": [
        {
          "output_type": "execute_result",
          "data": {
            "text/plain": [
              "array([[1.2129517],\n",
              "       [1.6167028],\n",
              "       [2.020454 ],\n",
              "       [2.46458  ],\n",
              "       [2.5453303],\n",
              "       [1.531548 ],\n",
              "       [3.5910459],\n",
              "       [2.2707796],\n",
              "       [2.787581 ],\n",
              "       [0.797088 ],\n",
              "       [2.5864394],\n",
              "       [3.962497 ],\n",
              "       [1.9518162],\n",
              "       [2.936969 ],\n",
              "       [1.1395423]], dtype=float32)"
            ]
          },
          "metadata": {},
          "execution_count": 17
        }
      ]
    },
    {
      "cell_type": "code",
      "source": [
        "y_train"
      ],
      "metadata": {
        "colab": {
          "base_uri": "https://localhost:8080/"
        },
        "id": "54ngvkt6x4cy",
        "outputId": "82fc3a37-dd17-44dc-c472-9af4f21cac2f"
      },
      "execution_count": 18,
      "outputs": [
        {
          "output_type": "execute_result",
          "data": {
            "text/plain": [
              "tensor([[1.7000],\n",
              "        [2.7600],\n",
              "        [2.0900],\n",
              "        [3.1900],\n",
              "        [1.6940],\n",
              "        [1.5730],\n",
              "        [3.3660],\n",
              "        [2.5960],\n",
              "        [2.5300],\n",
              "        [1.2210],\n",
              "        [2.8270],\n",
              "        [3.4650],\n",
              "        [1.6500],\n",
              "        [2.9040],\n",
              "        [1.3000]])"
            ]
          },
          "metadata": {},
          "execution_count": 18
        }
      ]
    },
    {
      "cell_type": "code",
      "source": [
        "fig=plt.figure(figsize=(10,5))\n",
        "plt.plot(x_train.numpy(),y_train.numpy(),'ro',label='Original Data')\n",
        "plt.plot(x_train.numpy(),predict,label='Fitted_Line')\n",
        "plt.xlabel('Hours Studied')\n",
        "plt.ylabel('Exam Score')\n",
        "plt.legend()\n",
        "plt.title('Exam Score Prediction')\n",
        "plt.show()"
      ],
      "metadata": {
        "colab": {
          "base_uri": "https://localhost:8080/",
          "height": 487
        },
        "id": "RdvOS-NQEQlG",
        "outputId": "7ce132d8-27f4-432e-d515-5a41f21dc164"
      },
      "execution_count": 19,
      "outputs": [
        {
          "output_type": "display_data",
          "data": {
            "text/plain": [
              "<Figure size 1000x500 with 1 Axes>"
            ],
            "image/png": "[encoded data removed]"
          },
          "metadata": {}
        }
      ]
    },
    {
      "cell_type": "code",
      "source": [
        "model.state_dict()"
      ],
      "metadata": {
        "colab": {
          "base_uri": "https://localhost:8080/"
        },
        "id": "hSOXCRPuEp18",
        "outputId": "b2238fd3-c818-4102-9a6f-f4142cec566a"
      },
      "execution_count": 20,
      "outputs": [
        {
          "output_type": "execute_result",
          "data": {
            "text/plain": [
              "OrderedDict([('linear.weight', tensor([[0.3670]])),\n",
              "             ('linear.bias', tensor([0.0017]))])"
            ]
          },
          "metadata": {},
          "execution_count": 20
        }
      ]
    },
    {
      "cell_type": "code",
      "source": [
        "list(model.parameters())"
      ],
      "metadata": {
        "colab": {
          "base_uri": "https://localhost:8080/"
        },
        "id": "V_gNJtVoFft0",
        "outputId": "65bd6edf-33f9-4ecb-e3de-ab706b66d035"
      },
      "execution_count": 21,
      "outputs": [
        {
          "output_type": "execute_result",
          "data": {
            "text/plain": [
              "[Parameter containing:\n",
              " tensor([[0.3670]], requires_grad=True),\n",
              " Parameter containing:\n",
              " tensor([0.0017], requires_grad=True)]"
            ]
          },
          "metadata": {},
          "execution_count": 21
        }
      ]
    },
    {
      "cell_type": "markdown",
      "source": [
        "## **6. Test model with new data point**"
      ],
      "metadata": {
        "id": "wa7JvzhtFrSq"
      }
    },
    {
      "cell_type": "code",
      "source": [
        "new_hours_studied=8\n",
        "new_hours_tensor=torch.tensor([[new_hours_studied]],dtype=torch.float32)"
      ],
      "metadata": {
        "id": "Fhntztj3Fjfq"
      },
      "execution_count": 22,
      "outputs": []
    },
    {
      "cell_type": "code",
      "source": [
        "model.eval()\n",
        "with torch.no_grad():\n",
        "  new_exam_score=model(new_hours_tensor)\n",
        "print('predicted exam score for a student who studied for 8 hours', new_exam_score.item())"
      ],
      "metadata": {
        "colab": {
          "base_uri": "https://localhost:8080/"
        },
        "id": "mPDhJLinGAP1",
        "outputId": "c57406a0-de52-4ca2-85fa-15c26d818600"
      },
      "execution_count": 23,
      "outputs": [
        {
          "output_type": "stream",
          "name": "stdout",
          "text": [
            "predicted exam score for a student who studied for 8 hours 2.938070058822632\n"
          ]
        }
      ]
    },
    {
      "cell_type": "code",
      "source": [
        "fig=plt.figure(figsize=(10,5))\n",
        "plt.plot(x_train.numpy(),y_train.numpy(),'ro',label='Original')\n",
        "plt.plot(x_train.numpy(),predict,label='Fitted_Line')\n",
        "plt.scatter([new_hours_studied],[new_exam_score.item()],color='blue',label='new_data_point')\n",
        "plt.xlabel('hours studied')\n",
        "plt.ylabel('Exam Score')\n",
        "plt.legend()\n",
        "plt.title('Exam Score Predicted')\n",
        "plt.show()"
      ],
      "metadata": {
        "colab": {
          "base_uri": "https://localhost:8080/",
          "height": 487
        },
        "id": "GbLNMPZVGJS4",
        "outputId": "760909a2-59d5-48db-e84d-ae065d585454"
      },
      "execution_count": 24,
      "outputs": [
        {
          "output_type": "display_data",
          "data": {
            "text/plain": [
              "<Figure size 1000x500 with 1 Axes>"
            ],
            "image/png": "[encoded data removed]"
          },
          "metadata": {}
        }
      ]
    },
    {
      "cell_type": "code",
      "source": [
        "model.state_dict()"
      ],
      "metadata": {
        "colab": {
          "base_uri": "https://localhost:8080/"
        },
        "id": "1yzvEaKCGOYi",
        "outputId": "40d79e56-0c12-41e5-851b-b88ce831e31a"
      },
      "execution_count": 25,
      "outputs": [
        {
          "output_type": "execute_result",
          "data": {
            "text/plain": [
              "OrderedDict([('linear.weight', tensor([[0.3670]])),\n",
              "             ('linear.bias', tensor([0.0017]))])"
            ]
          },
          "metadata": {},
          "execution_count": 25
        }
      ]
    },
    {
      "cell_type": "markdown",
      "source": [
        "## **7. Save the model**"
      ],
      "metadata": {
        "id": "POF0rDBWUwXN"
      }
    },
    {
      "cell_type": "code",
      "source": [
        "torch.save(model.state_dict(),'./linearRegression.pth')"
      ],
      "metadata": {
        "id": "sv51OKGgGSx8"
      },
      "execution_count": 26,
      "outputs": []
    }
  ]
}